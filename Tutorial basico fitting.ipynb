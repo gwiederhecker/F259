{
 "cells": [
  {
   "cell_type": "markdown",
   "id": "04261079-c962-4f01-9cbe-313dd2c4ee36",
   "metadata": {},
   "source": [
    "Vamos refazer o exemplo de ajuste de uma reta utilizando a função `curve_fit` da biblioteca `scipy`.\n",
    "\n",
    "### 1. Instalação das Bibliotecas Necessárias\n",
    "Certifique-se de que você tem `numpy`, `matplotlib` e `scipy` instalados:\n",
    "\n",
    "```bash\n",
    "pip install numpy matplotlib scipy\n",
    "```\n",
    "\n",
    "### 2. Importando as Bibliotecas\n",
    "\n",
    "Vamos começar importando as bibliotecas necessárias:"
   ]
  },
  {
   "cell_type": "markdown",
   "id": "34b13684-648d-4f4b-bb1b-85c8dde4f3e2",
   "metadata": {},
   "source": [
    "```python\n",
    "import numpy as np\n",
    "import matplotlib.pyplot as plt\n",
    "from scipy.optimize import curve_fit\n",
    "```"
   ]
  },
  {
   "cell_type": "markdown",
   "id": "641a912a-ba00-4c0b-859a-21817c286d6b",
   "metadata": {},
   "source": [
    "### 3. Gerando Dados de Exemplo\n",
    "\n",
    "Vamos criar um conjunto de dados de exemplo para ilustrar o ajuste de uma reta:\n",
    "\n",
    "```python\n",
    "# Gerar dados de exemplo\n",
    "x = np.array([1, 2, 3, 4, 5])\n",
    "y = np.array([2, 4, 5, 4, 5])\n",
    "```\n",
    "\n",
    "### 4. Definindo a Função Linear\n",
    "\n",
    "Para usar `curve_fit`, precisamos definir a forma da função linear que queremos ajustar:\n",
    "\n",
    "$y = m \\cdot x + b$"
   ]
  },
  {
   "cell_type": "markdown",
   "id": "72230a08-6b99-4877-b6a0-4a9a6a42216a",
   "metadata": {},
   "source": [
    "```python\n",
    "def funcao_linear(x, m, b):\n",
    "    return m * x + b\n",
    "```"
   ]
  },
  {
   "cell_type": "markdown",
   "id": "7c7a0b38-f72d-493b-91c4-9af6904b1ebf",
   "metadata": {},
   "source": [
    "### 5. Ajustando a Reta aos Dados\n",
    "\n",
    "Agora vamos ajustar a reta aos dados usando `curve_fit`:\n",
    "\n",
    "```python\n",
    "# Ajuste da reta\n",
    "coeficientes, covariancia = curve_fit(funcao_linear, x, y)\n",
    "\n",
    "# Exibir os coeficientes ajustados\n",
    "m, b = coeficientes\n",
    "print(f\"Coeficiente angular (m): {m}\")\n",
    "print(f\"Coeficiente linear (b): {b}\")\n",
    "```"
   ]
  },
  {
   "cell_type": "markdown",
   "id": "45d361c3-c2c6-4b16-94e3-1f81ccc15b03",
   "metadata": {},
   "source": [
    "### 6. Avaliando e Plotando a Reta Ajustada\n",
    "\n",
    "Agora que temos os coeficientes ajustados, vamos avaliar e plotar a reta ajustada:"
   ]
  },
  {
   "cell_type": "markdown",
   "id": "503765bb-eba1-4495-aaee-45464ed47211",
   "metadata": {},
   "source": [
    "```python\n",
    "# Avaliar a reta ajustada\n",
    "y_ajustado = funcao_linear(x, m, b)\n",
    "\n",
    "# Plotar os dados originais\n",
    "plt.scatter(x, y, color='blue', label='Dados')\n",
    "\n",
    "# Plotar a reta ajustada\n",
    "plt.plot(x, y_ajustado, color='red', label=f'Regressão Linear: y = {m:.2f}x + {b:.2f}')\n",
    "\n",
    "# Adicionar rótulos e título\n",
    "plt.xlabel('Eixo X')\n",
    "plt.ylabel('Eixo Y')\n",
    "plt.title('Ajuste Linear usando curve_fit')\n",
    "\n",
    "# Adicionar legenda\n",
    "plt.legend()\n",
    "\n",
    "# Mostrar o gráfico\n",
    "plt.show()\n",
    "```"
   ]
  },
  {
   "cell_type": "markdown",
   "id": "8bc49d08-ce3a-4e80-ac80-dcf6ab68accc",
   "metadata": {},
   "source": [
    "### 7. Explicação dos Resultados\n",
    "\n",
    "- **`curve_fit` e Coeficientes:** A função `curve_fit` ajusta a função linear definida aos dados e retorna os melhores coeficientes para o ajuste. No caso de uma reta, os coeficientes são \\( m \\) (coeficiente angular) e \\( b \\) (coeficiente linear).\n",
    "- **Reta Ajustada:** A reta ajustada \\( y = mx + b \\) é plotada sobre os dados originais, permitindo uma visualização clara de quão bem a linha ajustada representa os dados.\n",
    "\n",
    "### 8. Conclusão\n",
    "\n",
    "Você aprendeu como ajustar uma reta aos seus dados usando o `curve_fit` da biblioteca `scipy`. Este método é muito útil para realizar ajustes lineares em dados experimentais ou observacionais e pode ser estendido para ajustar qualquer tipo de função."
   ]
  },
  {
   "cell_type": "markdown",
   "id": "057e29b3-c7fc-4709-b648-9606e4886385",
   "metadata": {},
   "source": [
    "## Função polinomial arbitrária"
   ]
  },
  {
   "cell_type": "markdown",
   "id": "555701bf-f66a-4bdc-9e3e-5e3ee19f7f69",
   "metadata": {},
   "source": [
    "Vamos modificar o tutorial para utilizar a função `curve_fit` da biblioteca `scipy`, que é uma ferramenta mais geral para ajustar qualquer tipo de função (não apenas polinômios) aos dados.\n",
    "\n",
    "### Tutorial Básico: Ajuste de Funções Polinomiais Arbitrárias Usando `curve_fit` do SciPy\n",
    "\n",
    "**Introdução:**\n",
    "O `curve_fit` é uma função da biblioteca `scipy.optimize` que permite ajustar qualquer função (incluindo funções polinomiais) aos dados utilizando o método dos mínimos quadrados. Este tutorial mostra como usar `curve_fit` para ajustar uma função polinomial de grau arbitrário aos seus dados.\n",
    "\n",
    "### 1. Instalação das Bibliotecas Necessárias\n",
    "Certifique-se de que você tem `numpy`, `matplotlib` e `scipy` instalados:\n",
    "\n",
    "```bash\n",
    "pip install numpy matplotlib scipy\n",
    "```\n",
    "\n",
    "### 2. Importando as Bibliotecas\n",
    "\n",
    "Vamos começar importando as bibliotecas necessárias:"
   ]
  },
  {
   "cell_type": "code",
   "execution_count": 1,
   "id": "2abb8860-05dd-45a2-9e82-687ea97a4311",
   "metadata": {},
   "outputs": [],
   "source": [
    "\n",
    "import numpy as np\n",
    "import matplotlib.pyplot as plt\n",
    "from scipy.optimize import curve_fit\n"
   ]
  },
  {
   "cell_type": "markdown",
   "id": "a1871ef7-de05-4a7d-831c-50434f702edf",
   "metadata": {},
   "source": [
    "### 3. Gerando Dados de Exemplo\n",
    "\n",
    "Vamos criar um conjunto de dados de exemplo:"
   ]
  },
  {
   "cell_type": "code",
   "execution_count": 2,
   "id": "ce4fc1cf-9c5c-40c1-a5b3-030303912384",
   "metadata": {},
   "outputs": [],
   "source": [
    "\n",
    "# Gerar dados de exemplo\n",
    "x = np.array([1, 2, 3, 4, 5, 6, 7, 8, 9, 10])\n",
    "y = np.array([2.5, 5.1, 7.2, 7.8, 12.9, 13.5, 17.4, 19.3, 23.6, 26.5])\n"
   ]
  },
  {
   "cell_type": "markdown",
   "id": "b159601a-a419-411a-aa07-0e02184b9f0e",
   "metadata": {},
   "source": [
    "### 4. Definindo a Função Polinomial\n",
    "\n",
    "Para usar `curve_fit`, precisamos definir a forma do polinômio que queremos ajustar. Para um polinômio de grau \\(n\\), a função é:\n",
    "\n",
    "$$\n",
    "y = a_n \\cdot x^n + a_{n-1} \\cdot x^{n-1} + \\dots + a_1 \\cdot x + a_0\n",
    "$$\n",
    "\n",
    "Podemos definir uma função genérica para um polinômio de grau \\(n\\):"
   ]
  },
  {
   "cell_type": "code",
   "execution_count": 3,
   "id": "bfd0613b-cb10-44a8-b017-33d435ac2376",
   "metadata": {},
   "outputs": [],
   "source": [
    "\n",
    "def polinomio(x, *coeficientes):\n",
    "    grau = len(coeficientes) - 1\n",
    "    return sum(coeficientes[i] * x**(grau - i) for i in range(grau + 1))\n"
   ]
  },
  {
   "cell_type": "markdown",
   "id": "6d341c8a-5c5d-44e6-bd1d-5b5f29afaaa9",
   "metadata": {},
   "source": [
    "### 5. Ajustando o Polinômio aos Dados\n",
    "\n",
    "Agora vamos ajustar o polinômio aos dados usando `curve_fit`. Por exemplo, para um polinômio de grau 2:"
   ]
  },
  {
   "cell_type": "code",
   "execution_count": 8,
   "id": "56a539cf-08ae-4756-a867-b4794f97458a",
   "metadata": {},
   "outputs": [
    {
     "name": "stdout",
     "output_type": "stream",
     "text": [
      "Chute inicial: [1, 1, 1]\n",
      "Coeficientes do polinômio ajustado: [0.08977273 1.65128786 1.04166672]\n"
     ]
    }
   ],
   "source": [
    "\n",
    "# Grau do polinômio\n",
    "grau = 2\n",
    "\n",
    "# Estimativa inicial para os coeficientes (opcional)\n",
    "estimativa_inicial = [1] * (grau + 1) # no python multiplicar a lista [1] por um número aumenta a dimensão da lista\n",
    "print(f\"Chute inicial: {estimativa_inicial}\")\n",
    "\n",
    "# Ajuste da curva\n",
    "coeficientes, _ = curve_fit(polinomio, x, y, p0=estimativa_inicial) # o símbolo _ é para descartar os demais argumentos que a função retorna\n",
    "\n",
    "# Exibir os coeficientes ajustados\n",
    "print(f\"Coeficientes do polinômio ajustado: {coeficientes}\")\n"
   ]
  },
  {
   "cell_type": "markdown",
   "id": "7e18afd6-98fb-4460-a75b-8cf3f3464073",
   "metadata": {},
   "source": [
    "### 6. Avaliando e Plotando o Polinômio Ajustado\n",
    "\n",
    "Agora que temos os coeficientes ajustados, vamos avaliar e plotar o polinômio ajustado:"
   ]
  },
  {
   "cell_type": "code",
   "execution_count": 9,
   "id": "9b85c258-d38b-497e-86ab-1b7f74718097",
   "metadata": {},
   "outputs": [
    {
     "data": {
      "image/png": "[encoded data removed]",
      "text/plain": [
       "<Figure size 640x480 with 1 Axes>"
      ]
     },
     "metadata": {},
     "output_type": "display_data"
    }
   ],
   "source": [
    "\n",
    "# Avaliar o polinômio ajustado\n",
    "y_ajustado = polinomio(x, *coeficientes)\n",
    "\n",
    "# Plotar os dados originais\n",
    "plt.scatter(x, y, color='blue', label='Dados')\n",
    "\n",
    "# Plotar o polinômio ajustado\n",
    "x_fino = np.linspace(min(x), max(x), 500)  # Gera mais pontos para uma curva suave\n",
    "y_fino = polinomio(x_fino, *coeficientes)\n",
    "plt.plot(x_fino, y_fino, color='red', label=f'Ajuste Polinomial (grau {grau})')\n",
    "\n",
    "# Adicionar rótulos e título\n",
    "plt.xlabel('Eixo X')\n",
    "plt.ylabel('Eixo Y')\n",
    "plt.title('Ajuste Polinomial usando curve_fit')\n",
    "\n",
    "# Adicionar legenda\n",
    "plt.legend()\n",
    "\n",
    "# Mostrar o gráfico\n",
    "plt.show()\n"
   ]
  },
  {
   "cell_type": "markdown",
   "id": "b85c3b32-6630-4aa6-8857-5a2d14bde289",
   "metadata": {},
   "source": [
    "### 7. Explicação dos Resultados\n",
    "\n",
    "- **`curve_fit` e Coeficientes:** A função `curve_fit` ajusta a função fornecida (neste caso, um polinômio) aos dados e retorna os melhores coeficientes para o ajuste.\n",
    "- **Generalidade:** Embora neste exemplo tenhamos usado um polinômio, o `curve_fit` pode ser usado para ajustar qualquer função que você definir, tornando-o uma ferramenta muito poderosa para ajuste de curvas.\n",
    "\n",
    "### 8. Conclusão\n",
    "\n",
    "Você aprendeu como ajustar uma função polinomial arbitrária aos seus dados usando o `curve_fit` da biblioteca `scipy`. Este método é altamente flexível e pode ser usado para ajustar uma ampla variedade de funções além de polinômios, o que o torna útil para muitas aplicações de modelagem e análise de dados."
   ]
  },
  {
   "cell_type": "markdown",
   "id": "7c805176-b980-49b4-89fb-4007febd5096",
   "metadata": {},
   "source": [
    "# Obtendo incerteza dos parâmetros estimados"
   ]
  },
  {
   "cell_type": "markdown",
   "id": "5a593ee3-6f8a-4bc6-bccf-7165c4648863",
   "metadata": {},
   "source": [
    "A matriz de covariância, que é retornada pela função `curve_fit` do `scipy`, fornece informações sobre a incerteza dos parâmetros ajustados. Especificamente, a incerteza (ou erro padrão) de cada parâmetro pode ser estimada a partir da raiz quadrada dos elementos da diagonal principal da matriz de covariância.\n",
    "\n",
    "Aqui está um passo a passo de como calcular a incerteza dos parâmetros ajustados a partir da matriz de covariância:\n",
    "\n",
    "### 1. Ajuste da Função e Retorno da Matriz de Covariância\n",
    "\n",
    "Ao utilizar a função `curve_fit`, ela retorna dois valores: os coeficientes ajustados e a matriz de covariância. Vamos fazer o ajuste de uma reta (ou de qualquer outra função) e obter a matriz de covariância:"
   ]
  },
  {
   "cell_type": "code",
   "execution_count": 11,
   "id": "c61e21d8-cf7a-46fc-814a-b8f3d16dcfbc",
   "metadata": {},
   "outputs": [
    {
     "name": "stdout",
     "output_type": "stream",
     "text": [
      "Coeficiente angular (m): 0.5999999999991277\n",
      "Coeficiente linear (b): 2.2000000000026168\n",
      "Matriz de Covariância:\n",
      "[[ 0.08       -0.24000001]\n",
      " [-0.24000001  0.88000003]]\n"
     ]
    }
   ],
   "source": [
    "import numpy as np\n",
    "import matplotlib.pyplot as plt\n",
    "from scipy.optimize import curve_fit\n",
    "\n",
    "# Dados de exemplo\n",
    "x = np.array([1, 2, 3, 4, 5])\n",
    "y = np.array([2, 4, 5, 4, 5])\n",
    "\n",
    "# Definir a função linear\n",
    "def funcao_linear(x, m, b):\n",
    "    return m * x + b\n",
    "\n",
    "# Ajuste da reta\n",
    "coeficientes, matriz_covariancia = curve_fit(funcao_linear, x, y)\n",
    "\n",
    "# Exibir os coeficientes ajustados\n",
    "m, b = coeficientes\n",
    "print(f\"Coeficiente angular (m): {m}\")\n",
    "print(f\"Coeficiente linear (b): {b}\")\n",
    "\n",
    "# Exibir a matriz de covariância\n",
    "print(\"Matriz de Covariância:\")\n",
    "print(matriz_covariancia)\n"
   ]
  },
  {
   "cell_type": "markdown",
   "id": "b7aa2489-d12d-4906-8f1f-10840186c80d",
   "metadata": {},
   "source": [
    "### 2. Calculando a Incerteza dos Parâmetros\n",
    "\n",
    "A incerteza (ou erro padrão) dos coeficientes \\(m\\) e \\(b\\) pode ser obtida da seguinte forma:"
   ]
  },
  {
   "cell_type": "code",
   "execution_count": 12,
   "id": "92e7b42f-c5e9-403d-889c-45648ba809ee",
   "metadata": {},
   "outputs": [
    {
     "name": "stdout",
     "output_type": "stream",
     "text": [
      "Incerteza do coeficiente angular (m): 0.28284271668950944\n",
      "Incerteza do coeficiente linear (b): 0.9380831659463752\n"
     ]
    }
   ],
   "source": [
    "# Incerteza (erro padrão) dos parâmetros ajustados\n",
    "incerteza_m = np.sqrt(matriz_covariancia[0, 0])\n",
    "incerteza_b = np.sqrt(matriz_covariancia[1, 1])\n",
    "\n",
    "print(f\"Incerteza do coeficiente angular (m): {incerteza_m}\")\n",
    "print(f\"Incerteza do coeficiente linear (b): {incerteza_b}\")"
   ]
  },
  {
   "cell_type": "markdown",
   "id": "8ebb9847-2a98-460a-a831-71fb27ed6e46",
   "metadata": {},
   "source": [
    "Você pode formatar um número para exibir apenas um algarismo significativo usando notação científica em Python da seguinte forma:"
   ]
  },
  {
   "cell_type": "code",
   "execution_count": 13,
   "id": "12ac9e90-cf21-4fa3-91dd-fd37a7307563",
   "metadata": {},
   "outputs": [
    {
     "name": "stdout",
     "output_type": "stream",
     "text": [
      "1e-02\n",
      "1.2e-02\n"
     ]
    }
   ],
   "source": [
    "# Número de exemplo\n",
    "numero = 0.012345\n",
    "\n",
    "# Formatar para 1 algarismo significativo usando notação científica\n",
    "formatado = \"{:.0e}\".format(numero)\n",
    "\n",
    "print(formatado)\n",
    "\n",
    "# Formatar para 2 algarismo significativo usando notação científica\n",
    "formatado = \"{:.1e}\".format(numero)\n",
    "\n",
    "print(formatado)\n"
   ]
  },
  {
   "cell_type": "markdown",
   "id": "c18409eb-cb76-4192-8669-aae7ac421c78",
   "metadata": {},
   "source": [
    "### Vamos usar esta ferramenta para mostrar os valores na notação científica"
   ]
  },
  {
   "cell_type": "code",
   "execution_count": 17,
   "id": "0319db0d-c770-4cce-9779-e6fc34313699",
   "metadata": {},
   "outputs": [
    {
     "name": "stdout",
     "output_type": "stream",
     "text": [
      "Incerteza do coeficiente angular (m): 2e-01\n",
      "Incerteza do coeficiente linear (b): 6e-01\n"
     ]
    }
   ],
   "source": [
    "# Incerteza (erro padrão) dos parâmetros ajustados\n",
    "incerteza_m = np.sqrt(matriz_covariancia[0, 0])\n",
    "incerteza_b = np.sqrt(matriz_covariancia[1, 1])\n",
    "\n",
    "print(\"Incerteza do coeficiente angular (m): {:.0e}\".format(incerteza_m))\n",
    "print(\"Incerteza do coeficiente linear (b): {:.0e}\".format(incerteza_b))"
   ]
  },
  {
   "cell_type": "code",
   "execution_count": null,
   "id": "41effa75-2575-4fec-8a27-4d82c3f03a84",
   "metadata": {},
   "outputs": [],
   "source": [
    "Para mostrar dois algarismos significativos, basta fazer"
   ]
  },
  {
   "cell_type": "markdown",
   "id": "f2ab1a8d-20fb-40fa-b59c-650b2d12cd22",
   "metadata": {},
   "source": [
    "### 3. Explicação dos Resultados\n",
    "\n",
    "- **Matriz de Covariância**: A matriz de covariância `matriz_covariancia` fornece uma medida de como os parâmetros ajustados variam conjuntamente. Os elementos na diagonal (isto é, `matriz_covariancia[0, 0]` e `matriz_covariancia[1, 1]`) representam a variância dos parâmetros \\(m\\) e \\(b\\), respectivamente.\n",
    "- **Incerteza dos Parâmetros**: A incerteza (erro padrão) de cada parâmetro é a raiz quadrada da variância associada a esse parâmetro, obtida a partir dos elementos da diagonal principal da matriz de covariância."
   ]
  },
  {
   "cell_type": "markdown",
   "id": "ce51755c-b12a-48cb-b91c-5dc778484205",
   "metadata": {},
   "source": [
    "### 4. Exemplo Completo\n",
    "\n",
    "Aqui está o código completo, incluindo a estimativa das incertezas:"
   ]
  },
  {
   "cell_type": "code",
   "execution_count": 18,
   "id": "d229bd50-e422-434e-8692-01f59953c2be",
   "metadata": {},
   "outputs": [
    {
     "name": "stdout",
     "output_type": "stream",
     "text": [
      "Coeficiente angular (m): 7e-01 ± 2e-01\n",
      "Coeficiente linear (b): 1.6e+00 ± 6e-01\n"
     ]
    },
    {
     "data": {
      "image/png": "[encoded data removed]",
      "text/plain": [
       "<Figure size 640x480 with 1 Axes>"
      ]
     },
     "metadata": {},
     "output_type": "display_data"
    }
   ],
   "source": [
    "\n",
    "import numpy as np\n",
    "import matplotlib.pyplot as plt\n",
    "from scipy.optimize import curve_fit\n",
    "\n",
    "# Dados de exemplo\n",
    "x = np.array([1, 2, 3, 4, 5])\n",
    "y = np.array([2, 3, 4.5, 4, 5])\n",
    "\n",
    "# Definir a função linear\n",
    "def funcao_linear(x, m, b):\n",
    "    return m * x + b\n",
    "\n",
    "# Ajuste da reta\n",
    "coeficientes, matriz_covariancia = curve_fit(funcao_linear, x, y)\n",
    "\n",
    "# Coeficientes ajustados\n",
    "m, b = coeficientes\n",
    "\n",
    "# Incerteza (erro padrão) dos parâmetros ajustados\n",
    "incerteza_m = np.sqrt(matriz_covariancia[0, 0])\n",
    "incerteza_b = np.sqrt(matriz_covariancia[1, 1])\n",
    "\n",
    "print(f\"Coeficiente angular (m): {m:.0e} ± {incerteza_m:.0e}\")\n",
    "print(f\"Coeficiente linear (b): {b:.1e} ± {incerteza_b:.0e}\")\n",
    "\n",
    "# Avaliar a reta ajustada\n",
    "y_ajustado = funcao_linear(x, m, b)\n",
    "\n",
    "# Plotar os dados originais\n",
    "plt.scatter(x, y, color='blue', label='Dados')\n",
    "\n",
    "# Plotar a reta ajustada\n",
    "plt.plot(x, y_ajustado, color='red', label=f'Regressão Linear: y = {m:.2f}x + {b:.2f}')\n",
    "\n",
    "# Adicionar rótulos e título\n",
    "plt.xlabel('Eixo X')\n",
    "plt.ylabel('Eixo Y')\n",
    "plt.title('Ajuste Linear usando curve_fit com Incerteza')\n",
    "\n",
    "# Adicionar legenda\n",
    "plt.legend()\n",
    "\n",
    "# Mostrar o gráfico\n",
    "plt.show()\n"
   ]
  },
  {
   "cell_type": "markdown",
   "id": "97245ab3-afc9-4ba1-a914-dd03d9425844",
   "metadata": {},
   "source": [
    "### 5. Conclusão\n",
    "\n",
    "Ao calcular a incerteza dos parâmetros ajustados a partir da matriz de covariância, você pode quantificar a confiabilidade dos resultados da regressão. Esta informação é crucial em muitas aplicações, como ciência experimental e análise de dados, onde a precisão dos ajustes é tão importante quanto os próprios valores ajustados."
   ]
  },
  {
   "cell_type": "markdown",
   "id": "86d70991-7226-4ce9-860f-d8bf469f69fb",
   "metadata": {},
   "source": [
    "# Obtendo incertezas experimentais de forma automática"
   ]
  },
  {
   "cell_type": "markdown",
   "id": "004ad157-e59a-4899-b6d8-4cf2d33adaf6",
   "metadata": {},
   "source": [
    "O pacote `uncertainties` em Python permite realizar cálculos com incertezas de maneira conveniente, propagando as incertezas automaticamente durante as operações matemáticas. Aqui está um exemplo básico de como utilizar esse pacote para lidar com incertezas experimentais.\n",
    "\n",
    "### 1. Instalação do Pacote\n",
    "\n",
    "Se você ainda não tiver o pacote `uncertainties` instalado, pode instalá-lo usando o pip:\n",
    "\n",
    "```bash\n",
    "pip install uncertainties\n",
    "```\n",
    "\n",
    "### 2. Exemplo Básico de Utilização\n",
    "\n",
    "Vamos considerar um exemplo onde você mede a corrente elétrica (\\(I\\)) e a resistência (\\(R\\)) de um circuito, e quer calcular a tensão (\\(V\\)) usando a Lei de Ohm (\\(V = IR\\)), propagando as incertezas nas medições.\n",
    "\n",
    "#### 2.1 Importando o Pacote"
   ]
  },
  {
   "cell_type": "code",
   "execution_count": 34,
   "id": "f706deac-888c-4f81-be62-cef6b5a86ec5",
   "metadata": {},
   "outputs": [
    {
     "name": "stdout",
     "output_type": "stream",
     "text": [
      "Tensão (V) = 20.0+/-1.4 V\n"
     ]
    }
   ],
   "source": [
    "from uncertainties import ufloat\n",
    "from uncertainties.umath import *\n",
    "\n",
    "# Exemplo de medição com incertezas\n",
    "# Corrente (I) com incerteza\n",
    "I = ufloat(0.20, 0.01)  # 0.20 A com incerteza de 0.01 A\n",
    "\n",
    "# Resistência (R) com incerteza\n",
    "R = ufloat(100, 5)  # 100 Ohms com incerteza de 5 Ohms\n",
    "\n",
    "# Calcular a tensão usando a Lei de Ohm\n",
    "V = I * R\n",
    "\n",
    "# Exibir o resultado\n",
    "print(f\"Tensão (V) = {V} V\")"
   ]
  },
  {
   "cell_type": "markdown",
   "id": "1d861d24-218d-47f9-9c2b-e3704839cfb0",
   "metadata": {},
   "source": [
    "### 3. Explicação do Exemplo\n",
    "\n",
    "- **`ufloat(0.20, 0.01)`**: Cria um objeto que representa um valor com uma incerteza, onde `0.20` é o valor central e `0.01` é a incerteza associada.\n",
    "- **`V = I * R`**: Realiza a multiplicação considerando as incertezas. O pacote `uncertainties` propaga automaticamente as incertezas conforme as regras de propagação de incertezas.\n",
    "- **`print(f\"Tensão (V) = {V} V\")`**: Exibe o resultado da tensão calculada com a incerteza automaticamente formatada."
   ]
  },
  {
   "cell_type": "markdown",
   "id": "12da51d1-f837-419d-95f5-9c2fbce5aab7",
   "metadata": {},
   "source": [
    "### 6.Exemplos mais complicados"
   ]
  },
  {
   "cell_type": "code",
   "execution_count": 29,
   "id": "ba333770-d7bc-4d28-b04e-84a2f5aabef4",
   "metadata": {},
   "outputs": [
    {
     "name": "stdout",
     "output_type": "stream",
     "text": [
      "Potência (P) = 4.0+/-0.4 W\n"
     ]
    }
   ],
   "source": [
    "from uncertainties import ufloat\n",
    "from uncertainties.umath import *\n",
    "\n",
    "# Exemplo de medição com incertezas\n",
    "# Corrente (I) com incerteza\n",
    "I = ufloat(0.20, 0.01)  # 0.20 A com incerteza de 0.01 A\n",
    "\n",
    "# Resistência (R) com incerteza\n",
    "R = ufloat(100, 5)  # 100 Ohms com incerteza de 5 Ohms\n",
    "\n",
    "# Calcular a tensão usando a Lei de Ohm\n",
    "P =  R * I**2\n",
    "\n",
    "# Exibir o resultado\n",
    "print(f\"Potência (P) = {P} W\")"
   ]
  },
  {
   "cell_type": "markdown",
   "id": "7a390064-7745-4289-b7c1-4c2f2be0c06f",
   "metadata": {},
   "source": [
    "### 6. Conclusão\n",
    "\n",
    "O pacote `uncertainties` é uma ferramenta poderosa para lidar com incertezas experimentais, permitindo que você realize cálculos complexos com propagação automática das incertezas. Isso é especialmente útil em situações onde a precisão é fundamental, como em análises experimentais e científicas."
   ]
  }
 ],
 "metadata": {
  "kernelspec": {
   "display_name": "Python 3 (ipykernel)",
   "language": "python",
   "name": "python3"
  },
  "language_info": {
   "codemirror_mode": {
    "name": "ipython",
    "version": 3
   },
   "file_extension": ".py",
   "mimetype": "text/x-python",
   "name": "python",
   "nbconvert_exporter": "python",
   "pygments_lexer": "ipython3",
   "version": "3.12.3"
  }
 },
 "nbformat": 4,
 "nbformat_minor": 5
}
